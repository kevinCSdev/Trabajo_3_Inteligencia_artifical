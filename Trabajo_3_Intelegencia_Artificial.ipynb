{
  "nbformat": 4,
  "nbformat_minor": 0,
  "metadata": {
    "colab": {
      "provenance": [],
      "collapsed_sections": [
        "cIVkLt5kUy16"
      ],
      "include_colab_link": true
    },
    "kernelspec": {
      "name": "python3",
      "display_name": "Python 3"
    },
    "language_info": {
      "name": "python"
    }
  },
  "cells": [
    {
      "cell_type": "markdown",
      "metadata": {
        "id": "view-in-github",
        "colab_type": "text"
      },
      "source": [
        "<a href=\"https://colab.research.google.com/github/kevinCSdev/Trabajo_3_Inteligencia_artifical/blob/main/Trabajo_3_Intelegencia_Artificial.ipynb\" target=\"_parent\"><img src=\"https://colab.research.google.com/assets/colab-badge.svg\" alt=\"Open In Colab\"/></a>"
      ]
    },
    {
      "cell_type": "markdown",
      "source": [
        "# Evaluación 2\n",
        "\n",
        "---\n",
        "\n",
        "Integrantes : Kevin Cárdenas - Magdiel Fernández - Diego Pardo\n",
        "\n",
        "**Fecha de Creación:** Junio 2025\n",
        "\n",
        "**Versión:** 1.0  \n",
        "\n",
        "\n",
        "\n",
        "---\n",
        "\n",
        "## Descripción\n",
        "\n",
        "Este notebook corresponde al desarrollo de la entrega 3 de la asignatura de Inteligencia Artificial de la Universidad del Bío Bío - Sede Concepción\n",
        "\n",
        "---\n",
        "\n",
        "## Requisitos de Software\n",
        "\n",
        "Este notebook fue desarrollado con Python 3.9. A continuación se listan las bibliotecas necesarias:\n",
        "\n",
        "- numpy (2.0.2)\n",
        "- matplotlib (3.10.0)\n",
        "- pandas (2.2.2)\n",
        "- seaborn (0.13.2)\n",
        "- sklearn (1.6.1)\n",
        "\n",
        "Para verificar la versión instalada ejecutar usando el siguiente comando, usando la librería de la cual quieres saber la versión:\n",
        "\n",
        "```bash\n",
        "import pandas as pd\n",
        "print(pd.__version__)\n",
        "````"
      ],
      "metadata": {
        "id": "oxUadTyJqi8N"
      }
    },
    {
      "cell_type": "code",
      "source": [
        "!wget https://raw.githubusercontent.com/JaznaLaProfe/InteligenciaArtificial/main/data/dataset_churn_2025.csv"
      ],
      "metadata": {
        "colab": {
          "base_uri": "https://localhost:8080/"
        },
        "id": "PUozPSqA_H7P",
        "outputId": "4b35cd0e-aaaf-4e7c-e57d-a8c656198cb7"
      },
      "execution_count": null,
      "outputs": [
        {
          "output_type": "stream",
          "name": "stdout",
          "text": [
            "--2025-06-11 01:13:11--  https://raw.githubusercontent.com/JaznaLaProfe/InteligenciaArtificial/main/data/dataset_churn_2025.csv\n",
            "Resolving raw.githubusercontent.com (raw.githubusercontent.com)... 185.199.110.133, 185.199.109.133, 185.199.108.133, ...\n",
            "Connecting to raw.githubusercontent.com (raw.githubusercontent.com)|185.199.110.133|:443... connected.\n",
            "HTTP request sent, awaiting response... 200 OK\n",
            "Length: 402467 (393K) [text/plain]\n",
            "Saving to: ‘dataset_churn_2025.csv’\n",
            "\n",
            "dataset_churn_2025. 100%[===================>] 393.03K  --.-KB/s    in 0.04s   \n",
            "\n",
            "2025-06-11 01:13:12 (8.73 MB/s) - ‘dataset_churn_2025.csv’ saved [402467/402467]\n",
            "\n"
          ]
        }
      ]
    },
    {
      "cell_type": "markdown",
      "source": [
        "# Descripción de la data\n",
        "\n",
        "+ `age` - Edad del cliente (18 a 75 años)\n",
        "+ `months_active` - Meses de suscripción activa\n",
        "+ `monthly_spend` - Gasto mensuales en dólares\n",
        "+ `support_calls` - Número de llamadas al soporte\n",
        "+ `contract_type` - Tipo de contrato: `mes_a_mes`, `1_ano`, `2_anos`\n",
        "+ `has_discount` - Tiene descuento activo (1 = sí, 0 = no)\n",
        "+ `churm` - Variable objetivo: 1 = abandonó, 0 = NO abandonó"
      ],
      "metadata": {
        "id": "jkUnxnw2DpnS"
      }
    },
    {
      "cell_type": "code",
      "source": [
        "import pandas as pd\n",
        "import numpy as np\n",
        "import matplotlib.pyplot as plt\n",
        "import seaborn as sns\n",
        "from sklearn import *\n",
        "from sklearn.linear_model import LinearRegression\n",
        "from sklearn.model_selection import train_test_split\n",
        "from sklearn.tree import DecisionTreeRegressor\n",
        "from sklearn.ensemble import RandomForestRegressor\n",
        "from sklearn.metrics import r2_score, mean_absolute_error, mean_squared_log_error\n",
        "from sklearn.preprocessing import LabelEncoder, OneHotEncoder, OrdinalEncoder\n",
        "from sklearn.model_selection import train_test_split\n",
        "from sklearn.naive_bayes import GaussianNB\n",
        "from sklearn.metrics import confusion_matrix, accuracy_score\n",
        "from sklearn.metrics import accuracy_score, classification_report, confusion_matrix, roc_curve, auc, roc_auc_score, mean_squared_error\n",
        "from sklearn.tree import plot_tree\n",
        "\n",
        "\n",
        "import warnings\n",
        "warnings.filterwarnings('ignore')"
      ],
      "metadata": {
        "id": "pPPATwYIAeg8"
      },
      "execution_count": null,
      "outputs": []
    },
    {
      "cell_type": "code",
      "source": [
        "data = pd.read_csv(\"dataset_churn_2025.csv\")\n",
        "data.head()"
      ],
      "metadata": {
        "id": "dduas7QmAgnd"
      },
      "execution_count": null,
      "outputs": []
    },
    {
      "cell_type": "code",
      "source": [
        "data.info()"
      ],
      "metadata": {
        "id": "-GArhZ0jAt-X"
      },
      "execution_count": null,
      "outputs": []
    },
    {
      "cell_type": "markdown",
      "source": [
        "---\n",
        "\n",
        "✅ Interpretación\n",
        "\n",
        "---\n",
        "\n",
        "- La celda anterior indica la inexistencia de valores nulos"
      ],
      "metadata": {
        "id": "tAgK7jLGoh97"
      }
    },
    {
      "cell_type": "code",
      "source": [
        "data.shape"
      ],
      "metadata": {
        "id": "chUIMW7Sm2Yp"
      },
      "execution_count": null,
      "outputs": []
    },
    {
      "cell_type": "markdown",
      "source": [
        "---\n",
        "\n",
        "✅ Interpretación\n",
        "\n",
        "----\n",
        "\n",
        "  -  Existen 15000 observaciones que corresponen a 15000 clientes de los cuales se tienen 14 características o variables"
      ],
      "metadata": {
        "id": "t-tnsVEGnErc"
      }
    },
    {
      "cell_type": "markdown",
      "source": [
        "# Fase 4 - Modelamiento"
      ],
      "metadata": {
        "id": "csBkkV3DQEGw"
      }
    },
    {
      "cell_type": "markdown",
      "source": [
        "## Modelo de clasificación"
      ],
      "metadata": {
        "id": "jD3JLRbhQXZv"
      }
    },
    {
      "cell_type": "markdown",
      "source": [
        "### Distribución de variable objetivo. (1 punto)"
      ],
      "metadata": {
        "id": "y_VY0z5aQZpK"
      }
    },
    {
      "cell_type": "code",
      "source": [
        "data.groupby(\"churn\").size()"
      ],
      "metadata": {
        "id": "rz7FRushSxir"
      },
      "execution_count": null,
      "outputs": []
    },
    {
      "cell_type": "code",
      "source": [
        "# Gráfico de torta del porcentaje de cada clase\n",
        "clases = np.array([data[data.churn == 0.0].shape[0],\n",
        "                   data[data.churn == 1.0].shape[0]]\n",
        "                  )\n",
        "\n",
        "# Creando las leyendas del gráfico.\n",
        "labels = [ str(round(x * 1.0 / clases.sum() * 100.0, 2)) + '%'  for x in clases ]\n",
        "labels[0] = 'Menos chance\\n ' + labels[0]\n",
        "labels[1] = 'Más chance\\n ' + labels[1]\n",
        "\n",
        "plt.pie(clases, labels=labels)\n",
        "plt.title('Porcentaje de cada clase', fontsize=18, fontweight=\"bold\")\n",
        "plt.show()"
      ],
      "metadata": {
        "id": "6gFAo0s-pvDh"
      },
      "execution_count": null,
      "outputs": []
    },
    {
      "cell_type": "markdown",
      "source": [
        "---\n",
        "\n",
        "✅ Interpretación\n",
        "\n",
        "---\n",
        "\n",
        " - Se puede apreciar como la distribucion no es simétrica"
      ],
      "metadata": {
        "id": "pQO4HghRqU5q"
      }
    },
    {
      "cell_type": "markdown",
      "source": [
        "### Selección de variables independientes (1 punto)"
      ],
      "metadata": {
        "id": "ocp7OL6WQj6f"
      }
    },
    {
      "cell_type": "code",
      "source": [
        "\n",
        "# Respalda el data frame limpio original para poder experimentar con las técnicas de transformación\n",
        "original_dt_final = data.copy()\n",
        "\n",
        "# Recupera la versión original de los datos\n",
        "df_final = original_dt_final\n",
        "# Obtiene las columnas a codificar\n",
        "categorical_features = df_final.describe(include = np.object_).columns\n",
        "\n",
        "# Uso de OneHotEncoder\n",
        "encoder = OneHotEncoder(sparse_output=False)\n",
        "encoded_data = encoder.fit_transform(df_final[categorical_features])\n",
        "\n",
        "# Convierte a DataFrame para ver el resultado\n",
        "df_encoded = pd.DataFrame(encoded_data, columns=encoder.get_feature_names_out())\n",
        "\n",
        "# Unir con el DataFrame original (sin la columna original)\n",
        "df_final = pd.concat([original_dt_final.drop('contract_type', axis=1), df_encoded], axis=1)\n",
        "\n",
        "df_final.head()"
      ],
      "metadata": {
        "id": "WCEsxENWTBc2"
      },
      "execution_count": null,
      "outputs": []
    },
    {
      "cell_type": "code",
      "source": [
        "plt.figure(figsize=(12,12))\n",
        "sns.heatmap(df_final.corr(), annot=True)\n",
        "plt.title(\"Correlación de las variables\", fontsize=18, fontweight=\"bold\")\n",
        "plt.show()"
      ],
      "metadata": {
        "id": "92r0beIYSyJL"
      },
      "execution_count": null,
      "outputs": []
    },
    {
      "cell_type": "code",
      "source": [
        "corr_matrix = df_final[df_final.describe().columns].corr()\n",
        "corr_matrix[\"churn\"].sort_values(ascending=False)"
      ],
      "metadata": {
        "id": "78lwcgYY8K_P"
      },
      "execution_count": null,
      "outputs": []
    },
    {
      "cell_type": "markdown",
      "source": [
        "---\n",
        "\n",
        "✅ Interpretación\n",
        "\n",
        "---\n",
        "\n",
        "- En primer lugar, se encuentra \"tipo_contrato_mes_a_mes\", cuya correlación es de 0.543259, siendo la variable con mayor influencia en el análisis.\n",
        "\n",
        "- A continuación, se ubica \"tipo_contrato_1_año\", con un valor de correlación de 0.383210.\n",
        "\n",
        "- Le sigue \"tipo_contrato_2_años\", con una correlación de 0.279939.\n",
        "\n",
        "- Posteriormente, se encuentra \"meses_activo\", con un valor de correlación de 0.223644.\n",
        "\n",
        "- Después, se encuentra \"llamadas_soporte\", con un valor de correlación de 0.200268.\n",
        "\n",
        "- Finalmente, aparece \"has_discount\", con una correlación de 0.199226.\n",
        "\n",
        "- En conclusion, se ocuparan las 6 variables anteriormnete descrita debidio a que presentan la mayor correlacion respecto a la variable objetivo (churn)"
      ],
      "metadata": {
        "id": "zY9hhNiyQE52"
      }
    },
    {
      "cell_type": "code",
      "source": [
        "print(\"Mayor correlacion positiva : \",\n",
        "    corr_matrix.query(\"churn < 1 and churn >= 0.1\").index.values)\n",
        "\n",
        "print(\"Mayor correlacion negativa : \",\n",
        "    corr_matrix.query(\"churn <= -0.1\").index.values)\n",
        "\n",
        "# Arma la lista con los nombres de las variables\n",
        "lst_features = np.append(corr_matrix.query(\"churn < 1 and churn >= 0.1\").index.values,\n",
        "    corr_matrix.query(\"churn <= -0.1\").index.values)"
      ],
      "metadata": {
        "id": "choapNDrQ9tR"
      },
      "execution_count": null,
      "outputs": []
    },
    {
      "cell_type": "code",
      "source": [
        "data_final = df_final[['churn','support_calls', 'contract_type_mes_a_mes', 'months_active', 'has_discount', 'contract_type_1_ano', 'contract_type_2_anos']]\n",
        "data_final.head()"
      ],
      "metadata": {
        "id": "hI8HSSZeCvNl"
      },
      "execution_count": null,
      "outputs": []
    },
    {
      "cell_type": "markdown",
      "source": [
        "### Separación datos entrenamiento y test (1 punto)"
      ],
      "metadata": {
        "id": "EgWHKHDHTbnv"
      }
    },
    {
      "cell_type": "code",
      "source": [
        "# Separar las variables predictoras (X) y la variable objetivo (y)\n",
        "X = data_final.drop(columns=[\"churn\"])\n",
        "y = data_final[\"churn\"]\n",
        "\n",
        "# Separar 75% entrenamiento y 25% prueba\n",
        "X_train, X_test, y_train, y_test = train_test_split(\n",
        "    X, y, test_size=0.20, random_state=42\n",
        ")"
      ],
      "metadata": {
        "id": "Kx2ymY_8ThVh"
      },
      "execution_count": null,
      "outputs": []
    },
    {
      "cell_type": "markdown",
      "source": [
        "### Creacion de vista para matriz de confusion"
      ],
      "metadata": {
        "id": "_iEN0F_FH35K"
      }
    },
    {
      "cell_type": "code",
      "source": [
        "def view_matrix(matriz : np.array, clases : np.array):\n",
        "    \"\"\" Matriz de confusión de forma gráfica \"\"\"\n",
        "    plt.figure(figsize=(5,5),facecolor= 'silver')\n",
        "    group_counts = [\"{0:0.0f}\".format(value) for value in matriz.flatten()]\n",
        "    group_percentages = [\"{0:.2%}\".format(value) for value in matriz.flatten()/matriz.sum()]\n",
        "    labels = [f\"{v1}\\n{v2}\" for v1, v2 in zip(group_counts,group_percentages)]\n",
        "    labels = np.asarray(labels).reshape(2,2)\n",
        "    sns.heatmap(matriz, annot=labels, fmt='', cmap='Blues', xticklabels=clases, yticklabels=clases)\n",
        "    plt.title(\"Matriz de confusión\", fontsize=22, fontweight=\"bold\")\n",
        "    plt.xlabel(\"Predicción\", fontsize=20)\n",
        "    plt.ylabel(\"Real\", fontsize=20)\n",
        "    plt.show()"
      ],
      "metadata": {
        "id": "HXKdBsr1IDKS"
      },
      "execution_count": null,
      "outputs": []
    },
    {
      "cell_type": "markdown",
      "source": [
        "### Algoritmo 1 - DecisionTreeClassifier"
      ],
      "metadata": {
        "id": "cIVkLt5kUy16"
      }
    },
    {
      "cell_type": "markdown",
      "source": [
        "#### Creación del modelo (1 punto)"
      ],
      "metadata": {
        "id": "1w5Q-hyJQzR7"
      }
    },
    {
      "cell_type": "code",
      "source": [],
      "metadata": {
        "id": "CFzm3ZVJSzUW"
      },
      "execution_count": null,
      "outputs": []
    },
    {
      "cell_type": "markdown",
      "source": [
        "#### Entrenamiento del modelo (1 punto)"
      ],
      "metadata": {
        "id": "hbHESfOnQ3VU"
      }
    },
    {
      "cell_type": "code",
      "source": [
        "# Escriba su código acá"
      ],
      "metadata": {
        "id": "ijfSVYg4Sz_1"
      },
      "execution_count": null,
      "outputs": []
    },
    {
      "cell_type": "markdown",
      "source": [
        "#### Evaluación del modelo"
      ],
      "metadata": {
        "id": "LrdrO8R9Q78d"
      }
    },
    {
      "cell_type": "markdown",
      "source": [
        "#### Cálculo e interpretación de métricas"
      ],
      "metadata": {
        "id": "jyl20W66Q-G6"
      }
    },
    {
      "cell_type": "markdown",
      "source": [
        "##### Matriz de confusión - (2 puntos)\n",
        "\n",
        "0.5 puntos por cálculo + 1.5 puntos por interpretación correcta"
      ],
      "metadata": {
        "id": "-PSeLGpTRBcz"
      }
    },
    {
      "cell_type": "code",
      "execution_count": null,
      "metadata": {
        "id": "Kch-nPgtP7Tr"
      },
      "outputs": [],
      "source": [
        "# Escriba su código acá"
      ]
    },
    {
      "cell_type": "markdown",
      "source": [
        "##### Accuracy (2 puntos)\n",
        "\n",
        "0.5 puntos por cálculo + 1.5 puntos por interpretación correcta"
      ],
      "metadata": {
        "id": "MbvEymrNRHng"
      }
    },
    {
      "cell_type": "code",
      "source": [
        "# Escriba su código acá"
      ],
      "metadata": {
        "id": "wsuXzgEARJik"
      },
      "execution_count": null,
      "outputs": []
    },
    {
      "cell_type": "markdown",
      "source": [
        "### Algoritmo 2 - Naive Bayes"
      ],
      "metadata": {
        "id": "mrzVrfKElbve"
      }
    },
    {
      "cell_type": "markdown",
      "source": [
        "#### Creación del modelo - (1 punto)"
      ],
      "metadata": {
        "id": "zXgJ828jnO7c"
      }
    },
    {
      "cell_type": "code",
      "source": [
        "model = GaussianNB()"
      ],
      "metadata": {
        "id": "XH1p6oY5nRbj"
      },
      "execution_count": null,
      "outputs": []
    },
    {
      "cell_type": "markdown",
      "source": [
        "#### Entrenamiento del modelo - (1 punto)"
      ],
      "metadata": {
        "id": "HMaYQXx6nSyN"
      }
    },
    {
      "cell_type": "code",
      "source": [
        "model.fit(X_train, y_train)"
      ],
      "metadata": {
        "id": "Xv1EDoiEnYMz",
        "colab": {
          "base_uri": "https://localhost:8080/",
          "height": 79
        },
        "outputId": "d83ae4d2-fb7d-47ce-ccdf-c613e53b0b35"
      },
      "execution_count": null,
      "outputs": [
        {
          "output_type": "execute_result",
          "data": {
            "text/plain": [
              "GaussianNB()"
            ],
            "text/html": [
              "<style>#sk-container-id-1 {\n",
              "  /* Definition of color scheme common for light and dark mode */\n",
              "  --sklearn-color-text: #000;\n",
              "  --sklearn-color-text-muted: #666;\n",
              "  --sklearn-color-line: gray;\n",
              "  /* Definition of color scheme for unfitted estimators */\n",
              "  --sklearn-color-unfitted-level-0: #fff5e6;\n",
              "  --sklearn-color-unfitted-level-1: #f6e4d2;\n",
              "  --sklearn-color-unfitted-level-2: #ffe0b3;\n",
              "  --sklearn-color-unfitted-level-3: chocolate;\n",
              "  /* Definition of color scheme for fitted estimators */\n",
              "  --sklearn-color-fitted-level-0: #f0f8ff;\n",
              "  --sklearn-color-fitted-level-1: #d4ebff;\n",
              "  --sklearn-color-fitted-level-2: #b3dbfd;\n",
              "  --sklearn-color-fitted-level-3: cornflowerblue;\n",
              "\n",
              "  /* Specific color for light theme */\n",
              "  --sklearn-color-text-on-default-background: var(--sg-text-color, var(--theme-code-foreground, var(--jp-content-font-color1, black)));\n",
              "  --sklearn-color-background: var(--sg-background-color, var(--theme-background, var(--jp-layout-color0, white)));\n",
              "  --sklearn-color-border-box: var(--sg-text-color, var(--theme-code-foreground, var(--jp-content-font-color1, black)));\n",
              "  --sklearn-color-icon: #696969;\n",
              "\n",
              "  @media (prefers-color-scheme: dark) {\n",
              "    /* Redefinition of color scheme for dark theme */\n",
              "    --sklearn-color-text-on-default-background: var(--sg-text-color, var(--theme-code-foreground, var(--jp-content-font-color1, white)));\n",
              "    --sklearn-color-background: var(--sg-background-color, var(--theme-background, var(--jp-layout-color0, #111)));\n",
              "    --sklearn-color-border-box: var(--sg-text-color, var(--theme-code-foreground, var(--jp-content-font-color1, white)));\n",
              "    --sklearn-color-icon: #878787;\n",
              "  }\n",
              "}\n",
              "\n",
              "#sk-container-id-1 {\n",
              "  color: var(--sklearn-color-text);\n",
              "}\n",
              "\n",
              "#sk-container-id-1 pre {\n",
              "  padding: 0;\n",
              "}\n",
              "\n",
              "#sk-container-id-1 input.sk-hidden--visually {\n",
              "  border: 0;\n",
              "  clip: rect(1px 1px 1px 1px);\n",
              "  clip: rect(1px, 1px, 1px, 1px);\n",
              "  height: 1px;\n",
              "  margin: -1px;\n",
              "  overflow: hidden;\n",
              "  padding: 0;\n",
              "  position: absolute;\n",
              "  width: 1px;\n",
              "}\n",
              "\n",
              "#sk-container-id-1 div.sk-dashed-wrapped {\n",
              "  border: 1px dashed var(--sklearn-color-line);\n",
              "  margin: 0 0.4em 0.5em 0.4em;\n",
              "  box-sizing: border-box;\n",
              "  padding-bottom: 0.4em;\n",
              "  background-color: var(--sklearn-color-background);\n",
              "}\n",
              "\n",
              "#sk-container-id-1 div.sk-container {\n",
              "  /* jupyter's `normalize.less` sets `[hidden] { display: none; }`\n",
              "     but bootstrap.min.css set `[hidden] { display: none !important; }`\n",
              "     so we also need the `!important` here to be able to override the\n",
              "     default hidden behavior on the sphinx rendered scikit-learn.org.\n",
              "     See: https://github.com/scikit-learn/scikit-learn/issues/21755 */\n",
              "  display: inline-block !important;\n",
              "  position: relative;\n",
              "}\n",
              "\n",
              "#sk-container-id-1 div.sk-text-repr-fallback {\n",
              "  display: none;\n",
              "}\n",
              "\n",
              "div.sk-parallel-item,\n",
              "div.sk-serial,\n",
              "div.sk-item {\n",
              "  /* draw centered vertical line to link estimators */\n",
              "  background-image: linear-gradient(var(--sklearn-color-text-on-default-background), var(--sklearn-color-text-on-default-background));\n",
              "  background-size: 2px 100%;\n",
              "  background-repeat: no-repeat;\n",
              "  background-position: center center;\n",
              "}\n",
              "\n",
              "/* Parallel-specific style estimator block */\n",
              "\n",
              "#sk-container-id-1 div.sk-parallel-item::after {\n",
              "  content: \"\";\n",
              "  width: 100%;\n",
              "  border-bottom: 2px solid var(--sklearn-color-text-on-default-background);\n",
              "  flex-grow: 1;\n",
              "}\n",
              "\n",
              "#sk-container-id-1 div.sk-parallel {\n",
              "  display: flex;\n",
              "  align-items: stretch;\n",
              "  justify-content: center;\n",
              "  background-color: var(--sklearn-color-background);\n",
              "  position: relative;\n",
              "}\n",
              "\n",
              "#sk-container-id-1 div.sk-parallel-item {\n",
              "  display: flex;\n",
              "  flex-direction: column;\n",
              "}\n",
              "\n",
              "#sk-container-id-1 div.sk-parallel-item:first-child::after {\n",
              "  align-self: flex-end;\n",
              "  width: 50%;\n",
              "}\n",
              "\n",
              "#sk-container-id-1 div.sk-parallel-item:last-child::after {\n",
              "  align-self: flex-start;\n",
              "  width: 50%;\n",
              "}\n",
              "\n",
              "#sk-container-id-1 div.sk-parallel-item:only-child::after {\n",
              "  width: 0;\n",
              "}\n",
              "\n",
              "/* Serial-specific style estimator block */\n",
              "\n",
              "#sk-container-id-1 div.sk-serial {\n",
              "  display: flex;\n",
              "  flex-direction: column;\n",
              "  align-items: center;\n",
              "  background-color: var(--sklearn-color-background);\n",
              "  padding-right: 1em;\n",
              "  padding-left: 1em;\n",
              "}\n",
              "\n",
              "\n",
              "/* Toggleable style: style used for estimator/Pipeline/ColumnTransformer box that is\n",
              "clickable and can be expanded/collapsed.\n",
              "- Pipeline and ColumnTransformer use this feature and define the default style\n",
              "- Estimators will overwrite some part of the style using the `sk-estimator` class\n",
              "*/\n",
              "\n",
              "/* Pipeline and ColumnTransformer style (default) */\n",
              "\n",
              "#sk-container-id-1 div.sk-toggleable {\n",
              "  /* Default theme specific background. It is overwritten whether we have a\n",
              "  specific estimator or a Pipeline/ColumnTransformer */\n",
              "  background-color: var(--sklearn-color-background);\n",
              "}\n",
              "\n",
              "/* Toggleable label */\n",
              "#sk-container-id-1 label.sk-toggleable__label {\n",
              "  cursor: pointer;\n",
              "  display: flex;\n",
              "  width: 100%;\n",
              "  margin-bottom: 0;\n",
              "  padding: 0.5em;\n",
              "  box-sizing: border-box;\n",
              "  text-align: center;\n",
              "  align-items: start;\n",
              "  justify-content: space-between;\n",
              "  gap: 0.5em;\n",
              "}\n",
              "\n",
              "#sk-container-id-1 label.sk-toggleable__label .caption {\n",
              "  font-size: 0.6rem;\n",
              "  font-weight: lighter;\n",
              "  color: var(--sklearn-color-text-muted);\n",
              "}\n",
              "\n",
              "#sk-container-id-1 label.sk-toggleable__label-arrow:before {\n",
              "  /* Arrow on the left of the label */\n",
              "  content: \"▸\";\n",
              "  float: left;\n",
              "  margin-right: 0.25em;\n",
              "  color: var(--sklearn-color-icon);\n",
              "}\n",
              "\n",
              "#sk-container-id-1 label.sk-toggleable__label-arrow:hover:before {\n",
              "  color: var(--sklearn-color-text);\n",
              "}\n",
              "\n",
              "/* Toggleable content - dropdown */\n",
              "\n",
              "#sk-container-id-1 div.sk-toggleable__content {\n",
              "  max-height: 0;\n",
              "  max-width: 0;\n",
              "  overflow: hidden;\n",
              "  text-align: left;\n",
              "  /* unfitted */\n",
              "  background-color: var(--sklearn-color-unfitted-level-0);\n",
              "}\n",
              "\n",
              "#sk-container-id-1 div.sk-toggleable__content.fitted {\n",
              "  /* fitted */\n",
              "  background-color: var(--sklearn-color-fitted-level-0);\n",
              "}\n",
              "\n",
              "#sk-container-id-1 div.sk-toggleable__content pre {\n",
              "  margin: 0.2em;\n",
              "  border-radius: 0.25em;\n",
              "  color: var(--sklearn-color-text);\n",
              "  /* unfitted */\n",
              "  background-color: var(--sklearn-color-unfitted-level-0);\n",
              "}\n",
              "\n",
              "#sk-container-id-1 div.sk-toggleable__content.fitted pre {\n",
              "  /* unfitted */\n",
              "  background-color: var(--sklearn-color-fitted-level-0);\n",
              "}\n",
              "\n",
              "#sk-container-id-1 input.sk-toggleable__control:checked~div.sk-toggleable__content {\n",
              "  /* Expand drop-down */\n",
              "  max-height: 200px;\n",
              "  max-width: 100%;\n",
              "  overflow: auto;\n",
              "}\n",
              "\n",
              "#sk-container-id-1 input.sk-toggleable__control:checked~label.sk-toggleable__label-arrow:before {\n",
              "  content: \"▾\";\n",
              "}\n",
              "\n",
              "/* Pipeline/ColumnTransformer-specific style */\n",
              "\n",
              "#sk-container-id-1 div.sk-label input.sk-toggleable__control:checked~label.sk-toggleable__label {\n",
              "  color: var(--sklearn-color-text);\n",
              "  background-color: var(--sklearn-color-unfitted-level-2);\n",
              "}\n",
              "\n",
              "#sk-container-id-1 div.sk-label.fitted input.sk-toggleable__control:checked~label.sk-toggleable__label {\n",
              "  background-color: var(--sklearn-color-fitted-level-2);\n",
              "}\n",
              "\n",
              "/* Estimator-specific style */\n",
              "\n",
              "/* Colorize estimator box */\n",
              "#sk-container-id-1 div.sk-estimator input.sk-toggleable__control:checked~label.sk-toggleable__label {\n",
              "  /* unfitted */\n",
              "  background-color: var(--sklearn-color-unfitted-level-2);\n",
              "}\n",
              "\n",
              "#sk-container-id-1 div.sk-estimator.fitted input.sk-toggleable__control:checked~label.sk-toggleable__label {\n",
              "  /* fitted */\n",
              "  background-color: var(--sklearn-color-fitted-level-2);\n",
              "}\n",
              "\n",
              "#sk-container-id-1 div.sk-label label.sk-toggleable__label,\n",
              "#sk-container-id-1 div.sk-label label {\n",
              "  /* The background is the default theme color */\n",
              "  color: var(--sklearn-color-text-on-default-background);\n",
              "}\n",
              "\n",
              "/* On hover, darken the color of the background */\n",
              "#sk-container-id-1 div.sk-label:hover label.sk-toggleable__label {\n",
              "  color: var(--sklearn-color-text);\n",
              "  background-color: var(--sklearn-color-unfitted-level-2);\n",
              "}\n",
              "\n",
              "/* Label box, darken color on hover, fitted */\n",
              "#sk-container-id-1 div.sk-label.fitted:hover label.sk-toggleable__label.fitted {\n",
              "  color: var(--sklearn-color-text);\n",
              "  background-color: var(--sklearn-color-fitted-level-2);\n",
              "}\n",
              "\n",
              "/* Estimator label */\n",
              "\n",
              "#sk-container-id-1 div.sk-label label {\n",
              "  font-family: monospace;\n",
              "  font-weight: bold;\n",
              "  display: inline-block;\n",
              "  line-height: 1.2em;\n",
              "}\n",
              "\n",
              "#sk-container-id-1 div.sk-label-container {\n",
              "  text-align: center;\n",
              "}\n",
              "\n",
              "/* Estimator-specific */\n",
              "#sk-container-id-1 div.sk-estimator {\n",
              "  font-family: monospace;\n",
              "  border: 1px dotted var(--sklearn-color-border-box);\n",
              "  border-radius: 0.25em;\n",
              "  box-sizing: border-box;\n",
              "  margin-bottom: 0.5em;\n",
              "  /* unfitted */\n",
              "  background-color: var(--sklearn-color-unfitted-level-0);\n",
              "}\n",
              "\n",
              "#sk-container-id-1 div.sk-estimator.fitted {\n",
              "  /* fitted */\n",
              "  background-color: var(--sklearn-color-fitted-level-0);\n",
              "}\n",
              "\n",
              "/* on hover */\n",
              "#sk-container-id-1 div.sk-estimator:hover {\n",
              "  /* unfitted */\n",
              "  background-color: var(--sklearn-color-unfitted-level-2);\n",
              "}\n",
              "\n",
              "#sk-container-id-1 div.sk-estimator.fitted:hover {\n",
              "  /* fitted */\n",
              "  background-color: var(--sklearn-color-fitted-level-2);\n",
              "}\n",
              "\n",
              "/* Specification for estimator info (e.g. \"i\" and \"?\") */\n",
              "\n",
              "/* Common style for \"i\" and \"?\" */\n",
              "\n",
              ".sk-estimator-doc-link,\n",
              "a:link.sk-estimator-doc-link,\n",
              "a:visited.sk-estimator-doc-link {\n",
              "  float: right;\n",
              "  font-size: smaller;\n",
              "  line-height: 1em;\n",
              "  font-family: monospace;\n",
              "  background-color: var(--sklearn-color-background);\n",
              "  border-radius: 1em;\n",
              "  height: 1em;\n",
              "  width: 1em;\n",
              "  text-decoration: none !important;\n",
              "  margin-left: 0.5em;\n",
              "  text-align: center;\n",
              "  /* unfitted */\n",
              "  border: var(--sklearn-color-unfitted-level-1) 1pt solid;\n",
              "  color: var(--sklearn-color-unfitted-level-1);\n",
              "}\n",
              "\n",
              ".sk-estimator-doc-link.fitted,\n",
              "a:link.sk-estimator-doc-link.fitted,\n",
              "a:visited.sk-estimator-doc-link.fitted {\n",
              "  /* fitted */\n",
              "  border: var(--sklearn-color-fitted-level-1) 1pt solid;\n",
              "  color: var(--sklearn-color-fitted-level-1);\n",
              "}\n",
              "\n",
              "/* On hover */\n",
              "div.sk-estimator:hover .sk-estimator-doc-link:hover,\n",
              ".sk-estimator-doc-link:hover,\n",
              "div.sk-label-container:hover .sk-estimator-doc-link:hover,\n",
              ".sk-estimator-doc-link:hover {\n",
              "  /* unfitted */\n",
              "  background-color: var(--sklearn-color-unfitted-level-3);\n",
              "  color: var(--sklearn-color-background);\n",
              "  text-decoration: none;\n",
              "}\n",
              "\n",
              "div.sk-estimator.fitted:hover .sk-estimator-doc-link.fitted:hover,\n",
              ".sk-estimator-doc-link.fitted:hover,\n",
              "div.sk-label-container:hover .sk-estimator-doc-link.fitted:hover,\n",
              ".sk-estimator-doc-link.fitted:hover {\n",
              "  /* fitted */\n",
              "  background-color: var(--sklearn-color-fitted-level-3);\n",
              "  color: var(--sklearn-color-background);\n",
              "  text-decoration: none;\n",
              "}\n",
              "\n",
              "/* Span, style for the box shown on hovering the info icon */\n",
              ".sk-estimator-doc-link span {\n",
              "  display: none;\n",
              "  z-index: 9999;\n",
              "  position: relative;\n",
              "  font-weight: normal;\n",
              "  right: .2ex;\n",
              "  padding: .5ex;\n",
              "  margin: .5ex;\n",
              "  width: min-content;\n",
              "  min-width: 20ex;\n",
              "  max-width: 50ex;\n",
              "  color: var(--sklearn-color-text);\n",
              "  box-shadow: 2pt 2pt 4pt #999;\n",
              "  /* unfitted */\n",
              "  background: var(--sklearn-color-unfitted-level-0);\n",
              "  border: .5pt solid var(--sklearn-color-unfitted-level-3);\n",
              "}\n",
              "\n",
              ".sk-estimator-doc-link.fitted span {\n",
              "  /* fitted */\n",
              "  background: var(--sklearn-color-fitted-level-0);\n",
              "  border: var(--sklearn-color-fitted-level-3);\n",
              "}\n",
              "\n",
              ".sk-estimator-doc-link:hover span {\n",
              "  display: block;\n",
              "}\n",
              "\n",
              "/* \"?\"-specific style due to the `<a>` HTML tag */\n",
              "\n",
              "#sk-container-id-1 a.estimator_doc_link {\n",
              "  float: right;\n",
              "  font-size: 1rem;\n",
              "  line-height: 1em;\n",
              "  font-family: monospace;\n",
              "  background-color: var(--sklearn-color-background);\n",
              "  border-radius: 1rem;\n",
              "  height: 1rem;\n",
              "  width: 1rem;\n",
              "  text-decoration: none;\n",
              "  /* unfitted */\n",
              "  color: var(--sklearn-color-unfitted-level-1);\n",
              "  border: var(--sklearn-color-unfitted-level-1) 1pt solid;\n",
              "}\n",
              "\n",
              "#sk-container-id-1 a.estimator_doc_link.fitted {\n",
              "  /* fitted */\n",
              "  border: var(--sklearn-color-fitted-level-1) 1pt solid;\n",
              "  color: var(--sklearn-color-fitted-level-1);\n",
              "}\n",
              "\n",
              "/* On hover */\n",
              "#sk-container-id-1 a.estimator_doc_link:hover {\n",
              "  /* unfitted */\n",
              "  background-color: var(--sklearn-color-unfitted-level-3);\n",
              "  color: var(--sklearn-color-background);\n",
              "  text-decoration: none;\n",
              "}\n",
              "\n",
              "#sk-container-id-1 a.estimator_doc_link.fitted:hover {\n",
              "  /* fitted */\n",
              "  background-color: var(--sklearn-color-fitted-level-3);\n",
              "}\n",
              "</style><div id=\"sk-container-id-1\" class=\"sk-top-container\"><div class=\"sk-text-repr-fallback\"><pre>GaussianNB()</pre><b>In a Jupyter environment, please rerun this cell to show the HTML representation or trust the notebook. <br />On GitHub, the HTML representation is unable to render, please try loading this page with nbviewer.org.</b></div><div class=\"sk-container\" hidden><div class=\"sk-item\"><div class=\"sk-estimator fitted sk-toggleable\"><input class=\"sk-toggleable__control sk-hidden--visually\" id=\"sk-estimator-id-1\" type=\"checkbox\" checked><label for=\"sk-estimator-id-1\" class=\"sk-toggleable__label fitted sk-toggleable__label-arrow\"><div><div>GaussianNB</div></div><div><a class=\"sk-estimator-doc-link fitted\" rel=\"noreferrer\" target=\"_blank\" href=\"https://scikit-learn.org/1.6/modules/generated/sklearn.naive_bayes.GaussianNB.html\">?<span>Documentation for GaussianNB</span></a><span class=\"sk-estimator-doc-link fitted\">i<span>Fitted</span></span></div></label><div class=\"sk-toggleable__content fitted\"><pre>GaussianNB()</pre></div> </div></div></div></div>"
            ]
          },
          "metadata": {},
          "execution_count": 28
        }
      ]
    },
    {
      "cell_type": "markdown",
      "source": [
        "#### Evaluación del modelo - (1 punto)"
      ],
      "metadata": {
        "id": "B1aS2n9pnYxZ"
      }
    },
    {
      "cell_type": "code",
      "source": [
        "y_pred = model.predict(X_test)"
      ],
      "metadata": {
        "id": "7huIIIZ3GwVg"
      },
      "execution_count": null,
      "outputs": []
    },
    {
      "cell_type": "markdown",
      "source": [
        "#### Cálculo e interpretación de métricas"
      ],
      "metadata": {
        "id": "lBwxGgPCncYC"
      }
    },
    {
      "cell_type": "markdown",
      "source": [
        "##### Matriz de confusión - (2 puntos)\n",
        "\n",
        "0.5 puntos por cálculo + 1.5 puntos por interpretación correcta"
      ],
      "metadata": {
        "id": "7VdaHtaont6r"
      }
    },
    {
      "cell_type": "code",
      "source": [
        "variables = ['Abandono', 'No abandono']\n",
        "matriz_rf = confusion_matrix(y_test, y_pred)\n",
        "# Muestra la matriz de confusión de manera gráfica\n",
        "view_matrix(matriz_rf, variables)"
      ],
      "metadata": {
        "id": "PGTbmYJ4qMLS",
        "colab": {
          "base_uri": "https://localhost:8080/",
          "height": 510
        },
        "outputId": "6ac7a663-2d88-467f-c23a-c4ecef514452"
      },
      "execution_count": null,
      "outputs": [
        {
          "output_type": "display_data",
          "data": {
            "text/plain": [
              "<Figure size 500x500 with 2 Axes>"
            ],
            "image/png": "[encoded data removed]"
          },
          "metadata": {}
        }
      ]
    },
    {
      "cell_type": "markdown",
      "source": [
        "##### Accuracy - (2 puntos)\n",
        "\n",
        "0.5 puntos por cálculo + 1.5 puntos por interpretación correcta"
      ],
      "metadata": {
        "id": "HGf4jxExnxCw"
      }
    },
    {
      "cell_type": "code",
      "source": [
        "print(\"Accuracy:\", accuracy_score(y_test, y_pred))"
      ],
      "metadata": {
        "id": "DexrTjCYqNG6",
        "colab": {
          "base_uri": "https://localhost:8080/"
        },
        "outputId": "ce8c3f25-960d-4add-e369-203aaa5ec7d5"
      },
      "execution_count": null,
      "outputs": [
        {
          "output_type": "stream",
          "name": "stdout",
          "text": [
            "Accuracy: 0.7056666666666667\n"
          ]
        }
      ]
    },
    {
      "cell_type": "markdown",
      "source": [
        "### Algoritmo 3 - Regresión Logística"
      ],
      "metadata": {
        "id": "X_ZRRr0nlgc7"
      }
    },
    {
      "cell_type": "markdown",
      "source": [
        "#### Creación del modelo - (1 punto)"
      ],
      "metadata": {
        "id": "mZnnsSk6oybD"
      }
    },
    {
      "cell_type": "code",
      "source": [
        "# Escriba su código acá"
      ],
      "metadata": {
        "id": "aslPc_Kio1KA"
      },
      "execution_count": null,
      "outputs": []
    },
    {
      "cell_type": "markdown",
      "source": [
        "#### Entrenamiento del modelo - (1 punto)"
      ],
      "metadata": {
        "id": "PYsrwuCmoozD"
      }
    },
    {
      "cell_type": "code",
      "source": [
        "# Escriba su código acá"
      ],
      "metadata": {
        "id": "-Iss9TMNotF9"
      },
      "execution_count": null,
      "outputs": []
    },
    {
      "cell_type": "markdown",
      "source": [
        "#### Evaluación del modelo - (1 punto)"
      ],
      "metadata": {
        "id": "SLo1r9IIokVo"
      }
    },
    {
      "cell_type": "code",
      "source": [
        "# Escriba su código acá"
      ],
      "metadata": {
        "id": "qgg54fjvooSA"
      },
      "execution_count": null,
      "outputs": []
    },
    {
      "cell_type": "markdown",
      "source": [
        "#### Cálculo e interpretación de métricas"
      ],
      "metadata": {
        "id": "uaobToDgoXkv"
      }
    },
    {
      "cell_type": "markdown",
      "source": [
        "##### Matriz de confusión - (2 puntos)\n",
        "\n",
        "0.5 puntos por cálculo + 1.5 puntos por interpretación correcta"
      ],
      "metadata": {
        "id": "3VgvZi1doYtq"
      }
    },
    {
      "cell_type": "code",
      "source": [
        "# Escriba su código acá"
      ],
      "metadata": {
        "id": "qAwVCNlZobeC"
      },
      "execution_count": null,
      "outputs": []
    },
    {
      "cell_type": "markdown",
      "source": [
        "##### Accuracy - (2 puntos)\n",
        "\n",
        "0.5 puntos por cálculo + 1.5 puntos por interpretación correcta"
      ],
      "metadata": {
        "id": "hKmE07-Wob35"
      }
    },
    {
      "cell_type": "code",
      "source": [
        "# Escriba su código acá"
      ],
      "metadata": {
        "id": "bY1hzq9eqTj-"
      },
      "execution_count": null,
      "outputs": []
    },
    {
      "cell_type": "markdown",
      "source": [
        "### Algoritmo 4 - RandomForest"
      ],
      "metadata": {
        "id": "fhC7uQ9d8_ID"
      }
    },
    {
      "cell_type": "markdown",
      "source": [
        "#### Creación del modelo - (1 punto)"
      ],
      "metadata": {
        "id": "qOgWgxRZ9GcF"
      }
    },
    {
      "cell_type": "code",
      "source": [
        "# Escriba su código acá"
      ],
      "metadata": {
        "id": "fuIAent39Jvt"
      },
      "execution_count": null,
      "outputs": []
    },
    {
      "cell_type": "markdown",
      "source": [
        "#### Entrenamiento del modelo - (1 punto)"
      ],
      "metadata": {
        "id": "ZNXAgFZy9Pnl"
      }
    },
    {
      "cell_type": "code",
      "source": [
        "# Escriba su código acá"
      ],
      "metadata": {
        "id": "SLQHw-5d9zRf"
      },
      "execution_count": null,
      "outputs": []
    },
    {
      "cell_type": "markdown",
      "source": [
        "#### Evaluación del modelo - (1 punto)"
      ],
      "metadata": {
        "id": "7PObAGJT9Ut7"
      }
    },
    {
      "cell_type": "code",
      "source": [
        "# Escriba su código acá"
      ],
      "metadata": {
        "id": "6dlGR5KJ9x_r"
      },
      "execution_count": null,
      "outputs": []
    },
    {
      "cell_type": "markdown",
      "source": [
        "#### Cálculo e interpretación de métricas"
      ],
      "metadata": {
        "id": "6lrPm7ZM9cM3"
      }
    },
    {
      "cell_type": "markdown",
      "source": [
        "##### Matriz de confusión - (2 puntos)\n",
        "\n",
        "0.5 puntos por cálculo + 1.5 puntos por interpretación correcta"
      ],
      "metadata": {
        "id": "eUKb5T_59lRx"
      }
    },
    {
      "cell_type": "code",
      "source": [
        "# Escriba su código acá"
      ],
      "metadata": {
        "id": "KBuQ8EPm9wbv"
      },
      "execution_count": null,
      "outputs": []
    },
    {
      "cell_type": "markdown",
      "source": [
        "##### Accuracy - (2 puntos)\n",
        "\n",
        "0.5 puntos por cálculo + 1.5 puntos por interpretación correcta"
      ],
      "metadata": {
        "id": "4W1m3M9y9jgb"
      }
    },
    {
      "cell_type": "code",
      "source": [
        "# Escriba su código acá"
      ],
      "metadata": {
        "id": "kG3zLB9D9ppv"
      },
      "execution_count": null,
      "outputs": []
    },
    {
      "cell_type": "markdown",
      "source": [
        "### Comparación de los modelos - (2 puntos)"
      ],
      "metadata": {
        "id": "ZGpc4H0Do-Bw"
      }
    },
    {
      "cell_type": "code",
      "source": [
        "# Escriba su código acá"
      ],
      "metadata": {
        "id": "VeB2f1Uz-f6J"
      },
      "execution_count": null,
      "outputs": []
    }
  ]
}